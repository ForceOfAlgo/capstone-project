# #Dropping id column from train data
df_train.drop(columns=['Months '], inplace=True)

# #Dropping id column from test data
df_test.drop(columns=['Months '], inplace=True)


